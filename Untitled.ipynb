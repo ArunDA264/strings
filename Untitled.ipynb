{
 "cells": [
  {
   "cell_type": "code",
   "execution_count": 2,
   "id": "e050d35f",
   "metadata": {},
   "outputs": [
    {
     "name": "stdout",
     "output_type": "stream",
     "text": [
      "X\n"
     ]
    }
   ],
   "source": [
    "x = 'innomatics reserch lab is an institue located at jntu metro station'\n",
    "print('X')"
   ]
  },
  {
   "cell_type": "code",
   "execution_count": 3,
   "id": "bbbcea8e",
   "metadata": {},
   "outputs": [
    {
     "data": {
      "text/plain": [
       "'innomatics reserch lab is an institue located at jntu metro station'"
      ]
     },
     "execution_count": 3,
     "metadata": {},
     "output_type": "execute_result"
    }
   ],
   "source": [
    "x"
   ]
  },
  {
   "cell_type": "code",
   "execution_count": 5,
   "id": "1b5bd326",
   "metadata": {},
   "outputs": [
    {
     "data": {
      "text/plain": [
       "62"
      ]
     },
     "execution_count": 5,
     "metadata": {},
     "output_type": "execute_result"
    }
   ],
   "source": [
    "x.rfind(\"a\")"
   ]
  },
  {
   "cell_type": "raw",
   "id": "ec9c64b8",
   "metadata": {},
   "source": [
    "### rfind starts from right to left but index valuse from left to right only\n"
   ]
  },
  {
   "cell_type": "code",
   "execution_count": 9,
   "id": "57e27b3e",
   "metadata": {},
   "outputs": [
    {
     "data": {
      "text/plain": [
       "7"
      ]
     },
     "execution_count": 9,
     "metadata": {},
     "output_type": "execute_result"
    }
   ],
   "source": [
    "\"malayalam\".rfind(\"a\",2)\n"
   ]
  },
  {
   "cell_type": "code",
   "execution_count": null,
   "id": "8e5207a7",
   "metadata": {},
   "outputs": [],
   "source": []
  },
  {
   "cell_type": "code",
   "execution_count": 10,
   "id": "dd004e1b",
   "metadata": {},
   "outputs": [],
   "source": [
    "\n",
    "m = ('malayalam')"
   ]
  },
  {
   "cell_type": "code",
   "execution_count": 15,
   "id": "b8a93ef8",
   "metadata": {},
   "outputs": [
    {
     "data": {
      "text/plain": [
       "(7, 1)"
      ]
     },
     "execution_count": 15,
     "metadata": {},
     "output_type": "execute_result"
    }
   ],
   "source": [
    "m.rfind(\"a\"), m.find(\"a\")"
   ]
  },
  {
   "cell_type": "markdown",
   "id": "cd1a0032",
   "metadata": {},
   "source": [
    "###  .find  and . index both are used to find the index but find is goinfg to with out an error, .index is usedd to find an error "
   ]
  },
  {
   "cell_type": "code",
   "execution_count": 16,
   "id": "bd0680c8",
   "metadata": {},
   "outputs": [
    {
     "data": {
      "text/plain": [
       "'malayalam'"
      ]
     },
     "execution_count": 16,
     "metadata": {},
     "output_type": "execute_result"
    }
   ],
   "source": [
    "m\n"
   ]
  },
  {
   "cell_type": "code",
   "execution_count": 17,
   "id": "c5947698",
   "metadata": {},
   "outputs": [
    {
     "data": {
      "text/plain": [
       "-1"
      ]
     },
     "execution_count": 17,
     "metadata": {},
     "output_type": "execute_result"
    }
   ],
   "source": [
    "m.find(\"Z\")"
   ]
  },
  {
   "cell_type": "code",
   "execution_count": 18,
   "id": "b4fe37b3",
   "metadata": {},
   "outputs": [
    {
     "ename": "ValueError",
     "evalue": "substring not found",
     "output_type": "error",
     "traceback": [
      "\u001b[1;31m---------------------------------------------------------------------------\u001b[0m",
      "\u001b[1;31mValueError\u001b[0m                                Traceback (most recent call last)",
      "Cell \u001b[1;32mIn[18], line 1\u001b[0m\n\u001b[1;32m----> 1\u001b[0m m\u001b[38;5;241m.\u001b[39mindex(\u001b[38;5;124m\"\u001b[39m\u001b[38;5;124mZ\u001b[39m\u001b[38;5;124m\"\u001b[39m)\n",
      "\u001b[1;31mValueError\u001b[0m: substring not found"
     ]
    }
   ],
   "source": [
    "m.index(\"Z\")"
   ]
  },
  {
   "cell_type": "markdown",
   "id": "1c40bda9",
   "metadata": {},
   "source": [
    "### you can look above to see the examples"
   ]
  },
  {
   "cell_type": "code",
   "execution_count": 19,
   "id": "14ecbbd0",
   "metadata": {},
   "outputs": [
    {
     "data": {
      "text/plain": [
       "'malayalam'"
      ]
     },
     "execution_count": 19,
     "metadata": {},
     "output_type": "execute_result"
    }
   ],
   "source": [
    "m"
   ]
  },
  {
   "cell_type": "code",
   "execution_count": 21,
   "id": "b9bf44a0",
   "metadata": {},
   "outputs": [
    {
     "data": {
      "text/plain": [
       "6"
      ]
     },
     "execution_count": 21,
     "metadata": {},
     "output_type": "execute_result"
    }
   ],
   "source": [
    "m.rindex(\"y\")\n",
    "m.rindex(\"l\")"
   ]
  },
  {
   "cell_type": "code",
   "execution_count": 22,
   "id": "d1e4a688",
   "metadata": {},
   "outputs": [
    {
     "data": {
      "text/plain": [
       "'malayalam'"
      ]
     },
     "execution_count": 22,
     "metadata": {},
     "output_type": "execute_result"
    }
   ],
   "source": [
    "m\n"
   ]
  },
  {
   "cell_type": "code",
   "execution_count": 26,
   "id": "9fa55c99",
   "metadata": {},
   "outputs": [
    {
     "data": {
      "text/plain": [
       "'mglgyglgm'"
      ]
     },
     "execution_count": 26,
     "metadata": {},
     "output_type": "execute_result"
    }
   ],
   "source": [
    "m.replace (\"a\",\"g\",4)"
   ]
  },
  {
   "cell_type": "markdown",
   "id": "896fd50d",
   "metadata": {},
   "source": [
    "### .replace is used to replaace strings whicha are higliting in a given string"
   ]
  },
  {
   "cell_type": "code",
   "execution_count": 27,
   "id": "3d43f1e6",
   "metadata": {},
   "outputs": [
    {
     "data": {
      "text/plain": [
       "'innomatics reserch lab is an institue located at jntu metro station'"
      ]
     },
     "execution_count": 27,
     "metadata": {},
     "output_type": "execute_result"
    }
   ],
   "source": [
    "x"
   ]
  },
  {
   "cell_type": "code",
   "execution_count": 29,
   "id": "3320324d",
   "metadata": {},
   "outputs": [
    {
     "data": {
      "text/plain": [
       "['innomatics',\n",
       " 'reserch',\n",
       " 'lab',\n",
       " 'is',\n",
       " 'an',\n",
       " 'institue',\n",
       " 'located',\n",
       " 'at',\n",
       " 'jntu',\n",
       " 'metro',\n",
       " 'station']"
      ]
     },
     "execution_count": 29,
     "metadata": {},
     "output_type": "execute_result"
    }
   ],
   "source": [
    "x.split()"
   ]
  },
  {
   "cell_type": "code",
   "execution_count": 31,
   "id": "9b0056c1",
   "metadata": {},
   "outputs": [
    {
     "name": "stdout",
     "output_type": "stream",
     "text": [
      "Help on method_descriptor:\n",
      "\n",
      "split(self, /, sep=None, maxsplit=-1)\n",
      "    Return a list of the substrings in the string, using sep as the separator string.\n",
      "    \n",
      "      sep\n",
      "        The separator used to split the string.\n",
      "    \n",
      "        When set to None (the default value), will split on any whitespace\n",
      "        character (including \\\\n \\\\r \\\\t \\\\f and spaces) and will discard\n",
      "        empty strings from the result.\n",
      "      maxsplit\n",
      "        Maximum number of splits (starting from the left).\n",
      "        -1 (the default value) means no limit.\n",
      "    \n",
      "    Note, str.split() is mainly useful for data that has been intentionally\n",
      "    delimited.  With natural text that includes punctuation, consider using\n",
      "    the regular expression module.\n",
      "\n"
     ]
    }
   ],
   "source": [
    "help(str.split)"
   ]
  },
  {
   "cell_type": "code",
   "execution_count": 32,
   "id": "57cae802",
   "metadata": {},
   "outputs": [
    {
     "data": {
      "text/plain": [
       "'innomatics reserch lab is an institue located at jntu metro station'"
      ]
     },
     "execution_count": 32,
     "metadata": {},
     "output_type": "execute_result"
    }
   ],
   "source": [
    "x"
   ]
  },
  {
   "cell_type": "code",
   "execution_count": 34,
   "id": "535dfc28",
   "metadata": {},
   "outputs": [
    {
     "data": {
      "text/plain": [
       "['innomatics',\n",
       " 'reserch',\n",
       " 'lab',\n",
       " 'is',\n",
       " 'an',\n",
       " 'institue',\n",
       " 'located',\n",
       " 'at',\n",
       " 'jntu',\n",
       " 'metro',\n",
       " 'station']"
      ]
     },
     "execution_count": 34,
     "metadata": {},
     "output_type": "execute_result"
    }
   ],
   "source": [
    "x.rsplit(\" \")"
   ]
  },
  {
   "cell_type": "markdown",
   "id": "322a26cc",
   "metadata": {},
   "source": [
    "### partition"
   ]
  },
  {
   "cell_type": "code",
   "execution_count": 35,
   "id": "f8790563",
   "metadata": {},
   "outputs": [
    {
     "data": {
      "text/plain": [
       "'innomatics reserch lab is an institue located at jntu metro station'"
      ]
     },
     "execution_count": 35,
     "metadata": {},
     "output_type": "execute_result"
    }
   ],
   "source": [
    "x"
   ]
  },
  {
   "cell_type": "markdown",
   "id": "78a00410",
   "metadata": {},
   "source": [
    "###partiton always gives you always three partitions"
   ]
  },
  {
   "cell_type": "code",
   "execution_count": 36,
   "id": "41d61abe",
   "metadata": {},
   "outputs": [
    {
     "data": {
      "text/plain": [
       "'innomatics reserch lab is an institue located at jntu metro station'"
      ]
     },
     "execution_count": 36,
     "metadata": {},
     "output_type": "execute_result"
    }
   ],
   "source": [
    "x\n"
   ]
  },
  {
   "cell_type": "code",
   "execution_count": 43,
   "id": "4b8f71c1",
   "metadata": {},
   "outputs": [
    {
     "data": {
      "text/plain": [
       "('innomatics reserch lab is an institue located at jntu metro station', '', '')"
      ]
     },
     "execution_count": 43,
     "metadata": {},
     "output_type": "execute_result"
    }
   ],
   "source": [
    "x.partition(\"Arun \")"
   ]
  },
  {
   "cell_type": "code",
   "execution_count": 40,
   "id": "4a81db2d",
   "metadata": {},
   "outputs": [
    {
     "data": {
      "text/plain": [
       "'malayalam'"
      ]
     },
     "execution_count": 40,
     "metadata": {},
     "output_type": "execute_result"
    }
   ],
   "source": [
    "m"
   ]
  },
  {
   "cell_type": "code",
   "execution_count": 42,
   "id": "6fb5c298",
   "metadata": {},
   "outputs": [
    {
     "data": {
      "text/plain": [
       "['m', 'l', 'y', 'l', 'm']"
      ]
     },
     "execution_count": 42,
     "metadata": {},
     "output_type": "execute_result"
    }
   ],
   "source": [
    "m.split(\"a\")"
   ]
  },
  {
   "cell_type": "code",
   "execution_count": null,
   "id": "3e067f70",
   "metadata": {},
   "outputs": [],
   "source": [
    "m"
   ]
  }
 ],
 "metadata": {
  "kernelspec": {
   "display_name": "Python 3 (ipykernel)",
   "language": "python",
   "name": "python3"
  },
  "language_info": {
   "codemirror_mode": {
    "name": "ipython",
    "version": 3
   },
   "file_extension": ".py",
   "mimetype": "text/x-python",
   "name": "python",
   "nbconvert_exporter": "python",
   "pygments_lexer": "ipython3",
   "version": "3.11.5"
  }
 },
 "nbformat": 4,
 "nbformat_minor": 5
}
